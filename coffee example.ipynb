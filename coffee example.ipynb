{
 "cells": [
  {
   "cell_type": "code",
   "execution_count": 1,
   "metadata": {},
   "outputs": [],
   "source": [
    "import sys;\n",
    "import numpy as np\n",
    "import pandas as pd\n",
    "import torch\n",
    "from tqdm import tqdm\n",
    "\n",
    "import hetero_static_graph_temporal_signal as sgt \n",
    "import sgt_loader \n",
    "import asgrn "
   ]
  },
  {
   "cell_type": "code",
   "execution_count": 2,
   "metadata": {},
   "outputs": [],
   "source": [
    "salesdata = 'coffeedata_200upc_93store.csv'\n",
    "nodes = 'Node_attr_coffee.csv' \n",
    "categoryname = 'coffee'\n",
    "\n",
    "data = sgt.SalesDatasetLoader(salesdata,nodes,None)"
   ]
  },
  {
   "cell_type": "code",
   "execution_count": 3,
   "metadata": {},
   "outputs": [],
   "source": [
    "H = 8\n",
    "btr = []\n",
    "bts = []\n",
    "for i in range(len(data.gcndata)):\n",
    "    dataset = data.gcndata[i].get_dataset(20,H)\n",
    "    train_dataset, test_dataset = sgt.temporal_signal_split(dataset, train_ratio=0.8,H=H)\n",
    "    itr = iter(train_dataset)\n",
    "    btr += [next(itr) for j in range(train_dataset.snapshot_count)]\n",
    "    its = iter(test_dataset)\n",
    "    bts +=[next(its) for j in range(test_dataset.snapshot_count)]\n"
   ]
  },
  {
   "cell_type": "code",
   "execution_count": 4,
   "metadata": {},
   "outputs": [
    {
     "name": "stdout",
     "output_type": "stream",
     "text": [
      "Using cuda device\n"
     ]
    },
    {
     "name": "stderr",
     "output_type": "stream",
     "text": [
      "100%|██████████| 200/200 [30:37<00:00,  9.19s/it]\n"
     ]
    }
   ],
   "source": [
    "#### model training\n",
    "from random import seed \n",
    "seed(12345)\n",
    "\n",
    "epochs= 200\n",
    "\n",
    "PATH= './'+categoryname+'/'  \n",
    "attr_levels = data._nodes.max(axis=0)+1\n",
    "\n",
    "acc, loss_history =[], []\n",
    "\n",
    "trloader = sgt_loader.DataLoader(btr, batch_size= 93, shuffle=True) \n",
    "device = \"cuda\" if torch.cuda.is_available() else \"cpu\"\n",
    "print(f\"Using {device} device\")\n",
    "\n",
    "qq = torch.FloatTensor(np.array([[0.5,0.7,0.8,0.9,0.95]])).to(device)\n",
    "#model = asgrn.seq2seq_quantile(node_features=14, window_length=20, horizon = H, hidden_state= 4,nquantiles=5, device=device).to(device)\n",
    "\n",
    "model = asgrn.ASG_seq2seq_quantile_onehot(node_features=14, window_length=20, horizon = H, attr_levels = attr_levels, K=10,hidden_state= 4,nquantiles=5, device=device).to(device)\n",
    "optimizer = torch.optim.Adam(model.parameters(), lr=0.0005)\n",
    "modelname= model.name + \"_\"+ categoryname\n",
    "\n",
    "for epoch in tqdm(range(epochs)):\n",
    "\n",
    "    model.train()\n",
    "    for i, window in enumerate(trloader):\n",
    "        window  = window.to(device)\n",
    "        \n",
    "        optimizer.zero_grad()\n",
    "        y_pred,sl= model(window)\n",
    "\n",
    "        scale_mask = window['node'].scale > 0\n",
    "        mask = window['node'].mask *scale_mask.unsqueeze(1)            \n",
    "        err = mask.unsqueeze(1)*(-y_pred *(window['node'].scale.unsqueeze(1).unsqueeze(2)) + window['node'].y.unsqueeze(1))           \n",
    "        \n",
    "        loss = torch.max(err *qq.unsqueeze(2),err*(qq.unsqueeze(2)-1)).mean()      \n",
    "        \n",
    "        loss.backward()\n",
    "        optimizer.step()\n",
    "\n",
    "\n",
    "\n",
    "   "
   ]
  },
  {
   "cell_type": "code",
   "execution_count": 5,
   "metadata": {},
   "outputs": [],
   "source": [
    "#### model forecasting\n",
    "total_loss = 0\n",
    "count = 0\n",
    "agg_err = 0\n",
    "predictions = []\n",
    "acc = []\n",
    "tsloader = sgt_loader.DataLoader(bts, batch_size= test_dataset.snapshot_count, shuffle=False)\n",
    "with torch.no_grad():\n",
    "    for i, window in enumerate(tsloader):\n",
    "        window  = window.to(device)\n",
    "        y_pred,_ = model(window)        \n",
    "        scale_mask = window['node'].scale > 0\n",
    "        mask = window['node'].mask *scale_mask.unsqueeze(1)        \n",
    "        err = mask.unsqueeze(1)*(-y_pred *(window['node'].scale.unsqueeze(1).unsqueeze(2)) + window['node'].y.unsqueeze(1))       \n",
    "        \n",
    "        predictions.append(\n",
    "            { 'tdx':window.tdx.cpu().numpy(),\n",
    "                'mask': mask.cpu().numpy(),\n",
    "                'preds': (y_pred*window['node'].scale.unsqueeze(1).unsqueeze(2)).cpu().numpy(),\n",
    "                'y_true': window['node'].y.cpu().numpy(),\n",
    "                'z_true': window['node'].z.cpu().numpy(),\n",
    "                'store':i,\n",
    "                })\n",
    "        \n",
    "        if mask.sum()>0 :\n",
    "            total_loss += torch.max(err *qq.unsqueeze(2),err*(qq.unsqueeze(2)-1)).sum(axis=0)\n",
    "            count += torch.sum(mask.unsqueeze(1),axis=0)\n",
    "acc=(total_loss/count).cpu().numpy()"
   ]
  },
  {
   "cell_type": "code",
   "execution_count": 7,
   "metadata": {},
   "outputs": [
    {
     "data": {
      "text/plain": [
       "array([[0.70747524, 0.7123235 , 0.71418947, 0.7261891 , 0.73500264,\n",
       "        0.73769593, 0.75923806, 0.76827395],\n",
       "       [0.68459094, 0.68880606, 0.6909569 , 0.7059837 , 0.7155797 ,\n",
       "        0.7181954 , 0.7402955 , 0.7486615 ],\n",
       "       [0.5895566 , 0.5927703 , 0.5939641 , 0.60963774, 0.6192363 ,\n",
       "        0.62105733, 0.64183736, 0.64835954],\n",
       "       [0.40786618, 0.40927   , 0.40948632, 0.4231889 , 0.4324725 ,\n",
       "        0.43387803, 0.45064875, 0.4535854 ],\n",
       "       [0.26225996, 0.2638931 , 0.26326445, 0.2733063 , 0.28108665,\n",
       "        0.28109604, 0.293356  , 0.2944867 ]], dtype=float32)"
      ]
     },
     "execution_count": 7,
     "metadata": {},
     "output_type": "execute_result"
    }
   ],
   "source": [
    "acc"
   ]
  }
 ],
 "metadata": {
  "kernelspec": {
   "display_name": "Python 3.7.11 ('pytorch')",
   "language": "python",
   "name": "python3"
  },
  "language_info": {
   "codemirror_mode": {
    "name": "ipython",
    "version": 3
   },
   "file_extension": ".py",
   "mimetype": "text/x-python",
   "name": "python",
   "nbconvert_exporter": "python",
   "pygments_lexer": "ipython3",
   "version": "3.7.11"
  },
  "orig_nbformat": 4,
  "vscode": {
   "interpreter": {
    "hash": "ff6d4ce17eceee6fd1b58d61a6b43b34ae60da1a017957f957ae9fdd770bd0de"
   }
  }
 },
 "nbformat": 4,
 "nbformat_minor": 2
}
